{
 "metadata": {
  "language_info": {
   "codemirror_mode": {
    "name": "ipython",
    "version": 3
   },
   "file_extension": ".py",
   "mimetype": "text/x-python",
   "name": "python",
   "nbconvert_exporter": "python",
   "pygments_lexer": "ipython3",
   "version": "3.9.5"
  },
  "orig_nbformat": 4,
  "kernelspec": {
   "name": "python3",
   "display_name": "Python 3.9.5 64-bit ('venv': venv)"
  },
  "interpreter": {
   "hash": "5d8c7647da4b6dad353561abb2bb3b8b3181f586ccbf95e1eb4b6de5a06f1e29"
  }
 },
 "nbformat": 4,
 "nbformat_minor": 2,
 "cells": [
  {
   "cell_type": "code",
   "execution_count": 4,
   "metadata": {},
   "outputs": [],
   "source": [
    "from selenium import webdriver\n",
    "driver = webdriver.Chrome('./chromedriver')"
   ]
  },
  {
   "cell_type": "code",
   "execution_count": 5,
   "metadata": {},
   "outputs": [],
   "source": [
    "driver.get('https://www.latam.com/es_uy/apps/personas/booking?fecha1_dia=05&fecha1_anomes=2021-07&fecha2_dia=08&fecha2_anomes=2021-07&from_city2=LAX&to_city2=MVD&auAvailability=1&ida_vuelta=ida_vuelta&vuelos_origen=Buenos%20Aires&from_city1=MVD&vuelos_destino=Madrid&to_city1=LAX&flex=1&vuelos_fecha_salida_ddmmaaaa=13/06/2021&vuelos_fecha_regreso_ddmmaaaa=21/06/2021&cabina=Y&nadults=1&nchildren=0&ninfants=0&cod_promo=&stopover_outbound_days=0&stopover_inbound_days=0&application=#/')"
   ]
  },
  {
   "cell_type": "code",
   "execution_count": 16,
   "metadata": {},
   "outputs": [],
   "source": [
    "flights = driver.find_elements_by_xpath(\"//section[contains(@class, 'flight-list')]//li[@class='flight']\")"
   ]
  },
  {
   "cell_type": "code",
   "execution_count": 19,
   "metadata": {},
   "outputs": [
    {
     "output_type": "execute_result",
     "data": {
      "text/plain": [
       "7"
      ]
     },
     "metadata": {},
     "execution_count": 19
    }
   ],
   "source": [
    "len(flights)"
   ]
  },
  {
   "cell_type": "code",
   "execution_count": 22,
   "metadata": {},
   "outputs": [
    {
     "output_type": "execute_result",
     "data": {
      "text/plain": [
       "'13:13'"
      ]
     },
     "metadata": {},
     "execution_count": 22
    }
   ],
   "source": [
    "departure = flights[0].find_element_by_xpath(\"//div[@class='departure']/time\").get_attribute('datetime')\n",
    "departure"
   ]
  },
  {
   "cell_type": "code",
   "execution_count": 25,
   "metadata": {},
   "outputs": [
    {
     "output_type": "execute_result",
     "data": {
      "text/plain": [
       "'07:50'"
      ]
     },
     "metadata": {},
     "execution_count": 25
    }
   ],
   "source": [
    "arrival = flights[0].find_element_by_xpath(\"//div[@class='arrival']/time\").get_attribute('datetime')\n",
    "arrival"
   ]
  },
  {
   "cell_type": "code",
   "execution_count": 30,
   "metadata": {},
   "outputs": [],
   "source": [
    "flights[0].click()"
   ]
  },
  {
   "cell_type": "code",
   "execution_count": 70,
   "metadata": {},
   "outputs": [
    {
     "output_type": "execute_result",
     "data": {
      "text/plain": [
       "'689'"
      ]
     },
     "metadata": {},
     "execution_count": 70
    }
   ],
   "source": [
    "#fare_list = flights[0].find_elements_by_xpath(\"//div[contains(@class, 'fare-')]\")\n",
    "fare_list = driver.find_elements_by_xpath(\"//tfoot//td[contains(@class, 'fare-')]\")\n",
    "fare_list[0].find_element_by_xpath(\".//span[@class='currency-symbol']\").text\n",
    "fare_list[0].find_element_by_xpath(\".//span[@class='value']/span\").text\n"
   ]
  },
  {
   "cell_type": "code",
   "execution_count": 84,
   "metadata": {},
   "outputs": [
    {
     "output_type": "execute_result",
     "data": {
      "text/plain": [
       "'light'"
      ]
     },
     "metadata": {},
     "execution_count": 84
    }
   ],
   "source": [
    "fare_list[0].get_attribute('class').replace('fare-', '').replace(' selected', '').lower()"
   ]
  },
  {
   "cell_type": "code",
   "execution_count": 86,
   "metadata": {},
   "outputs": [
    {
     "output_type": "stream",
     "name": "stdout",
     "text": [
      "[{'fare': 'light', 'currency': 'US$', 'value': '689'}, {'fare': 'plus', 'currency': 'US$', 'value': '759'}, {'fare': 'top', 'currency': 'US$', 'value': '813'}]\n"
     ]
    }
   ],
   "source": [
    "fares = [{\n",
    "    'fare': fare.get_attribute('class').replace('fare-', '').replace(' selected', '').lower(),\n",
    "    'currency': fare.find_element_by_xpath(\".//span[@class='currency-symbol']\").text,\n",
    "    'value': fare.find_element_by_xpath(\".//span[@class='value']/span\").text\n",
    "} for fare in fare_list]\n",
    "print(fares)"
   ]
  },
  {
   "cell_type": "code",
   "execution_count": null,
   "metadata": {},
   "outputs": [],
   "source": []
  }
 ]
}